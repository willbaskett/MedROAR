{
 "cells": [
  {
   "cell_type": "markdown",
   "id": "69f8c275-aa00-49f5-bad1-5a08da88a535",
   "metadata": {},
   "source": [
    "# MedROAR Demo Notebook\n",
    "This notebook shows how to train MedROAR using MIMIC-IV after the data was formatted using the prepare_data.ipynb notebook. MedROAR is broadly applicable to many types of medical records. In the paper we discuss its use on both tabular and time-series datasets. This demo notebook shows how to apply it in the more complex case of mixed tabular and time series data. "
   ]
  },
  {
   "cell_type": "code",
   "execution_count": 2,
   "id": "d632313c",
   "metadata": {},
   "outputs": [
    {
     "name": "stderr",
     "output_type": "stream",
     "text": [
      "/home/jovyan/medical/ROPE.py:35: FutureWarning: `torch.cuda.amp.autocast(args...)` is deprecated. Please use `torch.amp.autocast('cuda', args...)` instead.\n",
      "  @autocast(enabled = False)\n",
      "/home/jovyan/medical/ROPE.py:256: FutureWarning: `torch.cuda.amp.autocast(args...)` is deprecated. Please use `torch.amp.autocast('cuda', args...)` instead.\n",
      "  @autocast(enabled = False)\n"
     ]
    }
   ],
   "source": [
    "import torch\n",
    "import torch.nn as nn\n",
    "import torch.nn.functional as F\n",
    "from torch.utils.data import Dataset\n",
    "import pandas as pd\n",
    "import numpy as np\n",
    "import gc\n",
    "import sys\n",
    "from sklearn.model_selection import train_test_split\n",
    "from tqdm.notebook import tqdm\n",
    "from ROPE import RotaryEmbedding\n",
    "from ROAR import scramble_order, MedROAR \n",
    "from utils import make_binary_plot\n",
    "import os"
   ]
  },
  {
   "cell_type": "markdown",
   "id": "97e53a1b-6ae6-4488-8606-575f79015b3f",
   "metadata": {},
   "source": [
    "## Define a Function to Evaluate The Model During Training\n",
    "Tests how loss changes when different numbers of bits are allowed in the embedding"
   ]
  },
  {
   "cell_type": "code",
   "execution_count": 3,
   "id": "a5602471",
   "metadata": {},
   "outputs": [],
   "source": [
    "def test_model(model, test, test_batches, criterion):\n",
    "    torch.manual_seed(0)\n",
    "    model.eval()\n",
    "    if model.make_encodings:\n",
    "        recording_indices = [0,1,2,4,8,16,32,64,128,256,512,1024,2048,4096]\n",
    "    else:\n",
    "        recording_indices = [0]\n",
    "    losses = None\n",
    "    pbar = tqdm(range(test_batches))\n",
    "    test_iterator = iter(test)\n",
    "    num_tests_done = 0\n",
    "    for test_iter in pbar: \n",
    "        test_batch = next(test_iterator, None)\n",
    "        if test_batch is not None:\n",
    "            num_tests_done += 1\n",
    "            loss_list = []\n",
    "            x_test_tab, x_test_diag, x_test_seq = embed_sample(test_batch, device=device)\n",
    "            decoder_input = scramble_order([x_test_tab, x_test_diag], x_test_seq, device=device, biased_scramble=True, simple_scramble=True, smoothing_ratio=0.0)\n",
    "            x_test_type_reordered, x_test_value_reordered, seq_order = decoder_input\n",
    "            \n",
    "            for i in range(model.n_bits+1):\n",
    "                if i in recording_indices:\n",
    "                    with torch.amp.autocast(\"cuda\"):\n",
    "                        _, output = model(decoder_input, num_allowed_nodes = i)\n",
    "                        loss = criterion(output, x_test_value_reordered)\n",
    "                        loss_list.append(float(loss))\n",
    "\n",
    "            if losses is None:\n",
    "                losses = np.array(loss_list)\n",
    "            else:\n",
    "                losses += np.array(loss_list)\n",
    "    \n",
    "    losses /= num_tests_done\n",
    "    #save normal samples\n",
    "    mean_test_loss = np.mean(losses[0:])\n",
    "    min_test_loss = np.min(losses)\n",
    "    min_error_node = int(torch.FloatTensor(losses).argmin())\n",
    "    model.best_complexity = min_error_node\n",
    "\n",
    "    print(\"BEST ERROR OF \"+str(round(min_test_loss,5))+\" WITH\", recording_indices[min_error_node], \"NODES, USING\", model.n_bits, \"TOTAL NODES\")\n",
    "    print(\"Features:\",0,\"LOSS:\", round(losses[0],5))\n",
    "    if model.make_encodings:\n",
    "        for node_index in range(1, len(losses)):\n",
    "            difference = losses[node_index] - losses[node_index-1]\n",
    "            pct_change = 1 - losses[node_index]/losses[node_index-1]\n",
    "            print(\"Features:\",recording_indices[node_index],\"LOSS:\", round(losses[node_index],5), \"DIFF\", round(difference,5),\"or\", round(pct_change*-100,2),\"%\")\n",
    "            \n",
    "    return min_test_loss"
   ]
  },
  {
   "cell_type": "markdown",
   "id": "13839ac7-07df-44c3-b437-a6d316cd44b8",
   "metadata": {},
   "source": [
    "## Define a Helper Function to Prepare Data During Training\n",
    "embed_sample is a helper function to prepare data pulled from a dataloader and get it into the right format for ROAR"
   ]
  },
  {
   "cell_type": "code",
   "execution_count": 4,
   "id": "d88950cf-fded-4dcf-adc0-7c941d9f57ef",
   "metadata": {},
   "outputs": [],
   "source": [
    "def embed_sample(batch, device, reserved_tokens=2):\n",
    "    #move samples to correct device\n",
    "    tabular_data, types_diagnoses, values_diagnoses, types_seq, values_seq, positions_seq = batch\n",
    "    tabular_data, types_diagnoses, values_diagnoses, types_seq, values_seq, positions_seq = tabular_data.to(device), types_diagnoses.to(device), values_diagnoses.to(device), types_seq.to(device), values_seq.to(device), positions_seq.to(device)\n",
    "\n",
    "    #create type, position, value triplit for tabular demographic data. \n",
    "    #ROAR treats tokens with type 0, and 1 as special by default, these 2 tokes are reserved\n",
    "    #Remember that NaN values were included in the data to mark missing data. This allows us to add the reserved tokens and THEN cast the NaNs to 0s\n",
    "    tab_cols = tabular_data.shape[1]\n",
    "    tab_type = torch.arange(tab_cols, device=device).repeat(tabular_data.shape[0],1) + reserved_tokens\n",
    "    tab_value = torch.nan_to_num(tabular_data + reserved_tokens)\n",
    "    tab_pos = torch.zeros(tab_type.shape[0], tab_type.shape[1])\n",
    "\n",
    "    #create type, position, value triplit for diagnoses data\n",
    "    diag_type = torch.nan_to_num(types_diagnoses + reserved_tokens)\n",
    "    diag_value = torch.nan_to_num(values_diagnoses + reserved_tokens)\n",
    "    diag_pos = torch.zeros(types_diagnoses.shape[0], types_diagnoses.shape[1])\n",
    "\n",
    "    #create type, position, value triplit for time-series EHR data\n",
    "    seq_type = torch.nan_to_num(types_seq + reserved_tokens)\n",
    "    seq_value = torch.nan_to_num(values_seq + reserved_tokens)\n",
    "    seq_pos = torch.nan_to_num(positions_seq)\n",
    "\n",
    "    tab_data = (tab_type.long(), tab_value.long(), tab_pos.float())\n",
    "    diag_data = (diag_type.long(), diag_value.long(), diag_pos.float())\n",
    "    seq_data = (seq_type.long(), seq_value.long(), seq_pos.float())\n",
    "\n",
    "    return tab_data, diag_data, seq_data"
   ]
  },
  {
   "cell_type": "markdown",
   "id": "a574b879-2c1f-4d7a-9efe-cd68c4f22698",
   "metadata": {},
   "source": [
    "## Define The Training Function\n",
    "Saves a copy of the model after each epoch"
   ]
  },
  {
   "cell_type": "code",
   "execution_count": 5,
   "id": "8746e979",
   "metadata": {},
   "outputs": [],
   "source": [
    "def train_model(train, test, model, epochs=10, aux_loss_weight=0.01, checkpoint_filename=\"model.pyt\",\n",
    "                lr=1e-4, label_smoothing=0, weight_decay=0.01, test_batches=10, epochs_between_test=10, running_average_window=1000):\n",
    "    \n",
    "    criterion = nn.CrossEntropyLoss(label_smoothing=label_smoothing, ignore_index=0)\n",
    "    \n",
    "    model.train()\n",
    "    iters = len(train)\n",
    "    best_mean_test_loss = np.inf\n",
    "    best_min_test_loss = np.inf\n",
    "    running_train_loss = []\n",
    "    \n",
    "    #training epochs\n",
    "    optimizer = torch.optim.AdamW(model.parameters(), lr=lr, weight_decay=weight_decay)\n",
    "    scaler = torch.amp.GradScaler(\"cuda\")\n",
    "    scheduler = torch.optim.lr_scheduler.OneCycleLR(optimizer, max_lr=lr, epochs=epochs+1, steps_per_epoch=iters, div_factor=1e4, pct_start=0.01)\n",
    "    for epoch in range(epochs+1):\n",
    "        #set seed here, seed is set again at test. \n",
    "        #If not reset after test this leads to overfitting since noise is the same each epoch\n",
    "        torch.manual_seed(np.random.randint(99999999))\n",
    "        model.train()\n",
    "        \n",
    "        gc.collect()\n",
    "        torch.cuda.empty_cache()\n",
    "        \n",
    "        print(\"--------------------------------------\\nEPOCH\", epoch)\n",
    "        pbar = tqdm(train)\n",
    "        for iteration, batch in enumerate(pbar):\n",
    "            #prepare each sample using the helper function\n",
    "            x_train_tab, x_train_diag, x_train_seq = embed_sample(batch, device=device)\n",
    "            \n",
    "            #scramble the order of the input data, we do this separately for the encoder and decoder input during training to avoid bias\n",
    "            x_encoder_input = scramble_order([x_train_tab, x_train_diag], x_train_seq, device=device, biased_scramble=True, simple_scramble=False, smoothing_ratio=0.0)\n",
    "            x_decoder_input = scramble_order([x_train_tab, x_train_diag], x_train_seq, device=device, biased_scramble=True, simple_scramble=False, smoothing_ratio=0.0)\n",
    "\n",
    "            #pull out the ground truth values for training\n",
    "            x_train_type_reordered, x_train_value_reordered, seq_order = x_decoder_input\n",
    "            \n",
    "            with torch.amp.autocast(\"cuda\"):\n",
    "                #run the model\n",
    "                enc, output = model(x_decoder_input, encoder_input=x_encoder_input)\n",
    "                loss = criterion(output, x_train_value_reordered)\n",
    "                \n",
    "                #aux loss forces the encodings to try to be useful\n",
    "                if model.make_encodings:\n",
    "                    if model.binary_encodings:\n",
    "                        loss = loss + ((enc*2-1).mean(axis=0)**2).mean()*aux_loss_weight\n",
    "                    else:\n",
    "                        loss = loss + (enc**2).mean()*aux_loss_weight  \n",
    "\n",
    "            #update the model\n",
    "            scaler.scale(loss).backward()\n",
    "            scaler.unscale_(optimizer)\n",
    "            nn.utils.clip_grad_norm_(model.parameters(), 1)\n",
    "            scaler.step(optimizer)\n",
    "            scaler.update()\n",
    "            scheduler.step()\n",
    "            optimizer.zero_grad()\n",
    "\n",
    "            #update the loss tracker\n",
    "            running_train_loss.append(float(loss))\n",
    "            running_train_loss = running_train_loss[-running_average_window:]\n",
    "\n",
    "            #update the lr tracker\n",
    "            current_lr = optimizer.param_groups[0]['lr']\n",
    "\n",
    "            #update the progress bar\n",
    "            pbar.set_description(f\"Loss: {np.mean(running_train_loss):.4f} LR {current_lr:.8}\")\n",
    "\n",
    "        #test the model\n",
    "        if epoch%epochs_between_test == 0:\n",
    "            gc.collect()\n",
    "            torch.cuda.empty_cache()\n",
    "            model.eval()\n",
    "            #evaluate model\n",
    "            min_test_loss = test_model(model, test, test_batches, criterion)\n",
    "            if min_test_loss < best_min_test_loss:\n",
    "                model.cpu()\n",
    "                #change this to just \"model.state_dict()\" if not using compiled model\n",
    "                torch.save(model._orig_mod.state_dict(), checkpoint_filename)\n",
    "                model = model.to(device)\n",
    "                best_min_test_loss = min_test_loss\n",
    "                   \n",
    "        del output\n",
    "        del loss\n",
    "        \n",
    "    model.eval()\n",
    "    return model"
   ]
  },
  {
   "cell_type": "markdown",
   "id": "029e5b01-1dd7-4987-810f-d58be12569ae",
   "metadata": {},
   "source": [
    "## Load Prepared Data\n",
    "Data prepared using the prepare_data.ipynb notebook\n",
    "\n",
    "We will include diagnoses during training in this version, unlike the one shown in the paper\n",
    "\n",
    "This data includes two datatypes which are considered \"tabular\" i.e. without position, and 1 sequential. \n",
    "\n",
    "Using this method for tabular data is an identical process, just excluding the sequence data"
   ]
  },
  {
   "cell_type": "code",
   "execution_count": 6,
   "id": "b4aca935-bbb4-4b42-ba51-1e7bf0127614",
   "metadata": {},
   "outputs": [],
   "source": [
    "medical_data = np.load(\"medical_data.npz\")"
   ]
  },
  {
   "cell_type": "code",
   "execution_count": 7,
   "id": "dcacce56-d63a-48d2-8abe-f5b964724c0f",
   "metadata": {},
   "outputs": [],
   "source": [
    "hadm_ids = medical_data[\"patient_ids\"]\n",
    "\n",
    "tabular_data = medical_data[\"patient_info\"]\n",
    "outcome_data = medical_data[\"patient_outcomes\"]\n",
    "\n",
    "#add the number of tabular data types to the diagnosis types so they are distinct\n",
    "types_diagnoses = medical_data[\"itemtypes_diagnoses\"] + tabular_data.shape[1] + 1\n",
    "values_diagnoses = medical_data[\"values_diagnoses\"]\n",
    "\n",
    "#add the number of tabular data types + diagnosis type to the time series record types so they are distinct\n",
    "types = medical_data[\"itemtypes\"] + np.nanmax(types_diagnoses) + 1\n",
    "values = medical_data[\"values\"]\n",
    "positions = medical_data[\"timestamps\"]"
   ]
  },
  {
   "cell_type": "markdown",
   "id": "2c2a42ff-7798-45cb-8800-5be661399fb6",
   "metadata": {},
   "source": [
    "## Divide into Train/Test"
   ]
  },
  {
   "cell_type": "code",
   "execution_count": 8,
   "id": "56e0ddb1-4894-4cd7-b563-c1973c207fbb",
   "metadata": {},
   "outputs": [],
   "source": [
    "tab_train, tab_test, types_diagnoses_train, types_diagnoses_test, values_diagnoses_train, values_diagnoses_test, types_train, types_test, values_train, values_test, positions_train, positions_test, outcomes_train, outcomes_test, ids_train, ids_test = train_test_split(tabular_data, types_diagnoses, values_diagnoses, types, values, positions, outcome_data, hadm_ids, test_size=0.1, random_state=42)"
   ]
  },
  {
   "cell_type": "markdown",
   "id": "50643f3a-4ee0-4367-ad54-c1e4675a56c8",
   "metadata": {},
   "source": [
    "## Training Parameters"
   ]
  },
  {
   "cell_type": "code",
   "execution_count": 9,
   "id": "657aba13",
   "metadata": {},
   "outputs": [],
   "source": [
    "train_batch_size=32\n",
    "test_batch_size=32\n",
    "num_workers=8"
   ]
  },
  {
   "cell_type": "markdown",
   "id": "253a584e-0539-4ba0-a8c8-592003d505e5",
   "metadata": {},
   "source": [
    "## Create Dataloaders"
   ]
  },
  {
   "cell_type": "code",
   "execution_count": 10,
   "id": "685ca5d9",
   "metadata": {},
   "outputs": [],
   "source": [
    "train = torch.utils.data.TensorDataset(torch.tensor(tab_train), torch.tensor(types_diagnoses_train), torch.tensor(values_diagnoses_train), torch.tensor(types_train), torch.tensor(values_train), torch.tensor(positions_train))\n",
    "test = torch.utils.data.TensorDataset(torch.tensor(tab_test), torch.tensor(types_diagnoses_test), torch.tensor(values_diagnoses_test), torch.tensor(types_test), torch.tensor(values_test), torch.tensor(positions_test))\n",
    "\n",
    "trainldr = torch.utils.data.DataLoader(train, batch_size=train_batch_size, shuffle=True, num_workers=num_workers, drop_last=True)\n",
    "testldr = torch.utils.data.DataLoader(test, batch_size=test_batch_size, shuffle=False, num_workers=num_workers)"
   ]
  },
  {
   "cell_type": "markdown",
   "id": "b6bdcbed-50e4-4e4c-bd32-00fbb74aba3f",
   "metadata": {},
   "source": [
    "## Create Model\n",
    "* n_embedding = max dimensionality of the input (vocabulary size + 2)\n",
    "* n_type_embedding = number of unique token types (also + 2)\n",
    "* d_model = model dimension\n",
    "* d_ff = feedforward dimension\n",
    "* num_heads = num attention heads\n",
    "* depth = number of transformer layers in the encoder and decoder, a depth of X will produce a model with an encoder with X layers and a decoder with X layers\n",
    "* n_translation_layers = number of feedforward layers used to translate to/from the highly structured embedding\n",
    "* n_bits = the number of dimensions (bits if binary_encodings=True) in the embedding\n",
    "* binary_encodings = round embeddings to binary (T/F)\n",
    "* ordered_embeddings = enforce hierarchy in embeddings (T/F)\n",
    "* make_encodings = make embeddings (T/F). ROAR models can be used in decoder only contexts.\n",
    "* learn_partial_encodings = learn to make embeddings which are invariant to missing information by masking part of encoder input during training (T/F)"
   ]
  },
  {
   "cell_type": "code",
   "execution_count": 11,
   "id": "0abb9db8",
   "metadata": {},
   "outputs": [],
   "source": [
    "device = torch.device(\"cuda\" if torch.cuda.is_available() else \"cpu\")\n",
    "\n",
    "#this is actually a fairly large model, reduce model dim, d_ff, and depth to decrease training complexity\n",
    "model = MedROAR(n_embedding=64, n_type_embedding=1344, d_model=512, d_ff=2048, num_heads=8, depth=8, n_translation_layers=8, n_bits=16,\n",
    "                            binary_encodings=True, ordered_encodings=True, \n",
    "                            make_encodings=True, learn_partial_encodings=True).to(device)\n",
    "\n",
    "#compile with caution. \n",
    "#torch.compile can cause very strange bugs with this model architecture in some pytorch versions\n",
    "model = torch.compile(model, fullgraph=True)"
   ]
  },
  {
   "cell_type": "markdown",
   "id": "a19d2255-fbfd-4567-b3a3-f30af4383759",
   "metadata": {},
   "source": [
    "## Train Model\n",
    "\n",
    "Use training helper function defined earlier in the notebook. Saves a copy of the model to disk after each epoch"
   ]
  },
  {
   "cell_type": "code",
   "execution_count": 12,
   "id": "7e6375b8",
   "metadata": {
    "scrolled": true
   },
   "outputs": [
    {
     "name": "stdout",
     "output_type": "stream",
     "text": [
      "--------------------------------------\n",
      "EPOCH 0\n"
     ]
    },
    {
     "data": {
      "application/vnd.jupyter.widget-view+json": {
       "model_id": "15f7da65a2a64b138ad607d8353aa0e9",
       "version_major": 2,
       "version_minor": 0
      },
      "text/plain": [
       "  0%|          | 0/1419 [00:00<?, ?it/s]"
      ]
     },
     "metadata": {},
     "output_type": "display_data"
    },
    {
     "data": {
      "application/vnd.jupyter.widget-view+json": {
       "model_id": "8d3c570028094926a45ec96eabae6c6b",
       "version_major": 2,
       "version_minor": 0
      },
      "text/plain": [
       "  0%|          | 0/50 [00:00<?, ?it/s]"
      ]
     },
     "metadata": {},
     "output_type": "display_data"
    },
    {
     "name": "stdout",
     "output_type": "stream",
     "text": [
      "BEST ERROR OF 1.96525 WITH 1 NODES, USING 16 TOTAL NODES\n",
      "Features: 0 LOSS: 1.96528\n",
      "Features: 1 LOSS: 1.96525 DIFF -3e-05 or -0.0 %\n",
      "Features: 2 LOSS: 1.96525 DIFF 0.0 or 0.0 %\n",
      "Features: 4 LOSS: 1.96526 DIFF 0.0 or 0.0 %\n",
      "Features: 8 LOSS: 1.96528 DIFF 2e-05 or 0.0 %\n",
      "Features: 16 LOSS: 1.96527 DIFF -1e-05 or -0.0 %\n",
      "--------------------------------------\n",
      "EPOCH 1\n"
     ]
    },
    {
     "data": {
      "application/vnd.jupyter.widget-view+json": {
       "model_id": "198cbd93dd8e41789bdd90ed82dd3ff0",
       "version_major": 2,
       "version_minor": 0
      },
      "text/plain": [
       "  0%|          | 0/1419 [00:00<?, ?it/s]"
      ]
     },
     "metadata": {},
     "output_type": "display_data"
    },
    {
     "data": {
      "application/vnd.jupyter.widget-view+json": {
       "model_id": "86e0349445c54264b3b77c7e04aef775",
       "version_major": 2,
       "version_minor": 0
      },
      "text/plain": [
       "  0%|          | 0/50 [00:00<?, ?it/s]"
      ]
     },
     "metadata": {},
     "output_type": "display_data"
    },
    {
     "name": "stdout",
     "output_type": "stream",
     "text": [
      "BEST ERROR OF 1.74789 WITH 16 NODES, USING 16 TOTAL NODES\n",
      "Features: 0 LOSS: 1.74797\n",
      "Features: 1 LOSS: 1.74804 DIFF 7e-05 or 0.0 %\n",
      "Features: 2 LOSS: 1.74803 DIFF -0.0 or -0.0 %\n",
      "Features: 4 LOSS: 1.74807 DIFF 4e-05 or 0.0 %\n",
      "Features: 8 LOSS: 1.74803 DIFF -4e-05 or -0.0 %\n",
      "Features: 16 LOSS: 1.74789 DIFF -0.00014 or -0.01 %\n",
      "--------------------------------------\n",
      "EPOCH 2\n"
     ]
    },
    {
     "data": {
      "application/vnd.jupyter.widget-view+json": {
       "model_id": "dd6677743d934368b34067ac36f5d0b9",
       "version_major": 2,
       "version_minor": 0
      },
      "text/plain": [
       "  0%|          | 0/1419 [00:00<?, ?it/s]"
      ]
     },
     "metadata": {},
     "output_type": "display_data"
    },
    {
     "data": {
      "application/vnd.jupyter.widget-view+json": {
       "model_id": "c7ea12fd7e2445ae99cfd84a0aa1c178",
       "version_major": 2,
       "version_minor": 0
      },
      "text/plain": [
       "  0%|          | 0/50 [00:00<?, ?it/s]"
      ]
     },
     "metadata": {},
     "output_type": "display_data"
    },
    {
     "name": "stdout",
     "output_type": "stream",
     "text": [
      "BEST ERROR OF 1.64817 WITH 16 NODES, USING 16 TOTAL NODES\n",
      "Features: 0 LOSS: 1.64885\n",
      "Features: 1 LOSS: 1.64876 DIFF -0.0001 or -0.01 %\n",
      "Features: 2 LOSS: 1.64868 DIFF -8e-05 or -0.0 %\n",
      "Features: 4 LOSS: 1.64838 DIFF -0.0003 or -0.02 %\n",
      "Features: 8 LOSS: 1.64836 DIFF -2e-05 or -0.0 %\n",
      "Features: 16 LOSS: 1.64817 DIFF -0.00019 or -0.01 %\n",
      "--------------------------------------\n",
      "EPOCH 3\n"
     ]
    },
    {
     "data": {
      "application/vnd.jupyter.widget-view+json": {
       "model_id": "5af7ee0feab942208bb70f179d9b9a99",
       "version_major": 2,
       "version_minor": 0
      },
      "text/plain": [
       "  0%|          | 0/1419 [00:00<?, ?it/s]"
      ]
     },
     "metadata": {},
     "output_type": "display_data"
    },
    {
     "data": {
      "application/vnd.jupyter.widget-view+json": {
       "model_id": "698f418609774114bd2761f58c0cbe5b",
       "version_major": 2,
       "version_minor": 0
      },
      "text/plain": [
       "  0%|          | 0/50 [00:00<?, ?it/s]"
      ]
     },
     "metadata": {},
     "output_type": "display_data"
    },
    {
     "name": "stdout",
     "output_type": "stream",
     "text": [
      "BEST ERROR OF 1.58252 WITH 16 NODES, USING 16 TOTAL NODES\n",
      "Features: 0 LOSS: 1.58319\n",
      "Features: 1 LOSS: 1.58285 DIFF -0.00035 or -0.02 %\n",
      "Features: 2 LOSS: 1.58271 DIFF -0.00014 or -0.01 %\n",
      "Features: 4 LOSS: 1.58258 DIFF -0.00013 or -0.01 %\n",
      "Features: 8 LOSS: 1.58258 DIFF 0.0 or 0.0 %\n",
      "Features: 16 LOSS: 1.58252 DIFF -6e-05 or -0.0 %\n",
      "--------------------------------------\n",
      "EPOCH 4\n"
     ]
    },
    {
     "data": {
      "application/vnd.jupyter.widget-view+json": {
       "model_id": "389561fcf0b647f893cb8ad2dc5446ce",
       "version_major": 2,
       "version_minor": 0
      },
      "text/plain": [
       "  0%|          | 0/1419 [00:00<?, ?it/s]"
      ]
     },
     "metadata": {},
     "output_type": "display_data"
    },
    {
     "data": {
      "application/vnd.jupyter.widget-view+json": {
       "model_id": "6c4d222952294ded85a6371acde0b4d2",
       "version_major": 2,
       "version_minor": 0
      },
      "text/plain": [
       "  0%|          | 0/50 [00:00<?, ?it/s]"
      ]
     },
     "metadata": {},
     "output_type": "display_data"
    },
    {
     "name": "stdout",
     "output_type": "stream",
     "text": [
      "BEST ERROR OF 1.53257 WITH 16 NODES, USING 16 TOTAL NODES\n",
      "Features: 0 LOSS: 1.53359\n",
      "Features: 1 LOSS: 1.53312 DIFF -0.00046 or -0.03 %\n",
      "Features: 2 LOSS: 1.53284 DIFF -0.00028 or -0.02 %\n",
      "Features: 4 LOSS: 1.53276 DIFF -8e-05 or -0.0 %\n",
      "Features: 8 LOSS: 1.53264 DIFF -0.00012 or -0.01 %\n",
      "Features: 16 LOSS: 1.53257 DIFF -7e-05 or -0.0 %\n",
      "--------------------------------------\n",
      "EPOCH 5\n"
     ]
    },
    {
     "data": {
      "application/vnd.jupyter.widget-view+json": {
       "model_id": "8c2aa344963241e7b0c5ec4e3fd7ed6e",
       "version_major": 2,
       "version_minor": 0
      },
      "text/plain": [
       "  0%|          | 0/1419 [00:00<?, ?it/s]"
      ]
     },
     "metadata": {},
     "output_type": "display_data"
    },
    {
     "data": {
      "application/vnd.jupyter.widget-view+json": {
       "model_id": "1cf94f07cccf4ccc80dbf1ecfd60cff7",
       "version_major": 2,
       "version_minor": 0
      },
      "text/plain": [
       "  0%|          | 0/50 [00:00<?, ?it/s]"
      ]
     },
     "metadata": {},
     "output_type": "display_data"
    },
    {
     "name": "stdout",
     "output_type": "stream",
     "text": [
      "BEST ERROR OF 1.50161 WITH 16 NODES, USING 16 TOTAL NODES\n",
      "Features: 0 LOSS: 1.5028\n",
      "Features: 1 LOSS: 1.5022 DIFF -0.00061 or -0.04 %\n",
      "Features: 2 LOSS: 1.50203 DIFF -0.00016 or -0.01 %\n",
      "Features: 4 LOSS: 1.50177 DIFF -0.00027 or -0.02 %\n",
      "Features: 8 LOSS: 1.50174 DIFF -3e-05 or -0.0 %\n",
      "Features: 16 LOSS: 1.50161 DIFF -0.00013 or -0.01 %\n",
      "--------------------------------------\n",
      "EPOCH 6\n"
     ]
    },
    {
     "data": {
      "application/vnd.jupyter.widget-view+json": {
       "model_id": "5131d3a7d7c14d999b0e50127f33212e",
       "version_major": 2,
       "version_minor": 0
      },
      "text/plain": [
       "  0%|          | 0/1419 [00:00<?, ?it/s]"
      ]
     },
     "metadata": {},
     "output_type": "display_data"
    },
    {
     "data": {
      "application/vnd.jupyter.widget-view+json": {
       "model_id": "efdfce6afed1481989b303419173eff1",
       "version_major": 2,
       "version_minor": 0
      },
      "text/plain": [
       "  0%|          | 0/50 [00:00<?, ?it/s]"
      ]
     },
     "metadata": {},
     "output_type": "display_data"
    },
    {
     "name": "stdout",
     "output_type": "stream",
     "text": [
      "BEST ERROR OF 1.4813 WITH 16 NODES, USING 16 TOTAL NODES\n",
      "Features: 0 LOSS: 1.48301\n",
      "Features: 1 LOSS: 1.48239 DIFF -0.00061 or -0.04 %\n",
      "Features: 2 LOSS: 1.48204 DIFF -0.00035 or -0.02 %\n",
      "Features: 4 LOSS: 1.48158 DIFF -0.00046 or -0.03 %\n",
      "Features: 8 LOSS: 1.48136 DIFF -0.00023 or -0.02 %\n",
      "Features: 16 LOSS: 1.4813 DIFF -5e-05 or -0.0 %\n",
      "--------------------------------------\n",
      "EPOCH 7\n"
     ]
    },
    {
     "data": {
      "application/vnd.jupyter.widget-view+json": {
       "model_id": "b84629ff2f1244f6afc7e340736f7106",
       "version_major": 2,
       "version_minor": 0
      },
      "text/plain": [
       "  0%|          | 0/1419 [00:00<?, ?it/s]"
      ]
     },
     "metadata": {},
     "output_type": "display_data"
    },
    {
     "data": {
      "application/vnd.jupyter.widget-view+json": {
       "model_id": "a9e12cc0f912449d8906fe86c44f2c0d",
       "version_major": 2,
       "version_minor": 0
      },
      "text/plain": [
       "  0%|          | 0/50 [00:00<?, ?it/s]"
      ]
     },
     "metadata": {},
     "output_type": "display_data"
    },
    {
     "name": "stdout",
     "output_type": "stream",
     "text": [
      "BEST ERROR OF 1.46493 WITH 16 NODES, USING 16 TOTAL NODES\n",
      "Features: 0 LOSS: 1.46695\n",
      "Features: 1 LOSS: 1.46624 DIFF -0.00071 or -0.05 %\n",
      "Features: 2 LOSS: 1.46594 DIFF -0.0003 or -0.02 %\n",
      "Features: 4 LOSS: 1.46544 DIFF -0.00049 or -0.03 %\n",
      "Features: 8 LOSS: 1.46501 DIFF -0.00043 or -0.03 %\n",
      "Features: 16 LOSS: 1.46493 DIFF -9e-05 or -0.01 %\n",
      "--------------------------------------\n",
      "EPOCH 8\n"
     ]
    },
    {
     "data": {
      "application/vnd.jupyter.widget-view+json": {
       "model_id": "de6a59371d714b3a9743515fa3cd8913",
       "version_major": 2,
       "version_minor": 0
      },
      "text/plain": [
       "  0%|          | 0/1419 [00:00<?, ?it/s]"
      ]
     },
     "metadata": {},
     "output_type": "display_data"
    },
    {
     "data": {
      "application/vnd.jupyter.widget-view+json": {
       "model_id": "d51b7f6821cf495794167743a766f2a2",
       "version_major": 2,
       "version_minor": 0
      },
      "text/plain": [
       "  0%|          | 0/50 [00:00<?, ?it/s]"
      ]
     },
     "metadata": {},
     "output_type": "display_data"
    },
    {
     "name": "stdout",
     "output_type": "stream",
     "text": [
      "BEST ERROR OF 1.45373 WITH 16 NODES, USING 16 TOTAL NODES\n",
      "Features: 0 LOSS: 1.45762\n",
      "Features: 1 LOSS: 1.45663 DIFF -0.00099 or -0.07 %\n",
      "Features: 2 LOSS: 1.45583 DIFF -0.0008 or -0.05 %\n",
      "Features: 4 LOSS: 1.45483 DIFF -0.001 or -0.07 %\n",
      "Features: 8 LOSS: 1.45422 DIFF -0.00061 or -0.04 %\n",
      "Features: 16 LOSS: 1.45373 DIFF -0.00049 or -0.03 %\n",
      "--------------------------------------\n",
      "EPOCH 9\n"
     ]
    },
    {
     "data": {
      "application/vnd.jupyter.widget-view+json": {
       "model_id": "e88c3475fa9349e09037ae465e9420d1",
       "version_major": 2,
       "version_minor": 0
      },
      "text/plain": [
       "  0%|          | 0/1419 [00:00<?, ?it/s]"
      ]
     },
     "metadata": {},
     "output_type": "display_data"
    },
    {
     "data": {
      "application/vnd.jupyter.widget-view+json": {
       "model_id": "257af86a65364fb7a0a9983e8f6e27cf",
       "version_major": 2,
       "version_minor": 0
      },
      "text/plain": [
       "  0%|          | 0/50 [00:00<?, ?it/s]"
      ]
     },
     "metadata": {},
     "output_type": "display_data"
    },
    {
     "name": "stdout",
     "output_type": "stream",
     "text": [
      "BEST ERROR OF 1.43919 WITH 16 NODES, USING 16 TOTAL NODES\n",
      "Features: 0 LOSS: 1.44198\n",
      "Features: 1 LOSS: 1.44132 DIFF -0.00066 or -0.05 %\n",
      "Features: 2 LOSS: 1.441 DIFF -0.00032 or -0.02 %\n",
      "Features: 4 LOSS: 1.44023 DIFF -0.00077 or -0.05 %\n",
      "Features: 8 LOSS: 1.43948 DIFF -0.00075 or -0.05 %\n",
      "Features: 16 LOSS: 1.43919 DIFF -0.00029 or -0.02 %\n",
      "--------------------------------------\n",
      "EPOCH 10\n"
     ]
    },
    {
     "data": {
      "application/vnd.jupyter.widget-view+json": {
       "model_id": "110b3c4af1b1426e9d4a09e88138c954",
       "version_major": 2,
       "version_minor": 0
      },
      "text/plain": [
       "  0%|          | 0/1419 [00:00<?, ?it/s]"
      ]
     },
     "metadata": {},
     "output_type": "display_data"
    },
    {
     "data": {
      "application/vnd.jupyter.widget-view+json": {
       "model_id": "a3e68f52c32541a3bcae586a9efa1f51",
       "version_major": 2,
       "version_minor": 0
      },
      "text/plain": [
       "  0%|          | 0/50 [00:00<?, ?it/s]"
      ]
     },
     "metadata": {},
     "output_type": "display_data"
    },
    {
     "name": "stdout",
     "output_type": "stream",
     "text": [
      "BEST ERROR OF 1.4283 WITH 16 NODES, USING 16 TOTAL NODES\n",
      "Features: 0 LOSS: 1.43201\n",
      "Features: 1 LOSS: 1.43127 DIFF -0.00074 or -0.05 %\n",
      "Features: 2 LOSS: 1.43064 DIFF -0.00063 or -0.04 %\n",
      "Features: 4 LOSS: 1.42936 DIFF -0.00128 or -0.09 %\n",
      "Features: 8 LOSS: 1.42845 DIFF -0.00091 or -0.06 %\n",
      "Features: 16 LOSS: 1.4283 DIFF -0.00014 or -0.01 %\n",
      "--------------------------------------\n",
      "EPOCH 11\n"
     ]
    },
    {
     "data": {
      "application/vnd.jupyter.widget-view+json": {
       "model_id": "5f9d7ce59a6848f0bf1bdf5376404de8",
       "version_major": 2,
       "version_minor": 0
      },
      "text/plain": [
       "  0%|          | 0/1419 [00:00<?, ?it/s]"
      ]
     },
     "metadata": {},
     "output_type": "display_data"
    },
    {
     "data": {
      "application/vnd.jupyter.widget-view+json": {
       "model_id": "4052b3891f16441fb6773cc11a515226",
       "version_major": 2,
       "version_minor": 0
      },
      "text/plain": [
       "  0%|          | 0/50 [00:00<?, ?it/s]"
      ]
     },
     "metadata": {},
     "output_type": "display_data"
    },
    {
     "name": "stdout",
     "output_type": "stream",
     "text": [
      "BEST ERROR OF 1.41722 WITH 16 NODES, USING 16 TOTAL NODES\n",
      "Features: 0 LOSS: 1.41988\n",
      "Features: 1 LOSS: 1.41931 DIFF -0.00057 or -0.04 %\n",
      "Features: 2 LOSS: 1.41884 DIFF -0.00046 or -0.03 %\n",
      "Features: 4 LOSS: 1.41824 DIFF -0.00061 or -0.04 %\n",
      "Features: 8 LOSS: 1.41739 DIFF -0.00084 or -0.06 %\n",
      "Features: 16 LOSS: 1.41722 DIFF -0.00017 or -0.01 %\n",
      "--------------------------------------\n",
      "EPOCH 12\n"
     ]
    },
    {
     "data": {
      "application/vnd.jupyter.widget-view+json": {
       "model_id": "1fc8f4fd60db48ebb2ec4c7b98147d80",
       "version_major": 2,
       "version_minor": 0
      },
      "text/plain": [
       "  0%|          | 0/1419 [00:00<?, ?it/s]"
      ]
     },
     "metadata": {},
     "output_type": "display_data"
    },
    {
     "data": {
      "application/vnd.jupyter.widget-view+json": {
       "model_id": "975f44abdd4b4989b53247c86b92b5fc",
       "version_major": 2,
       "version_minor": 0
      },
      "text/plain": [
       "  0%|          | 0/50 [00:00<?, ?it/s]"
      ]
     },
     "metadata": {},
     "output_type": "display_data"
    },
    {
     "name": "stdout",
     "output_type": "stream",
     "text": [
      "BEST ERROR OF 1.41065 WITH 16 NODES, USING 16 TOTAL NODES\n",
      "Features: 0 LOSS: 1.41337\n",
      "Features: 1 LOSS: 1.41281 DIFF -0.00056 or -0.04 %\n",
      "Features: 2 LOSS: 1.41239 DIFF -0.00042 or -0.03 %\n",
      "Features: 4 LOSS: 1.41188 DIFF -0.00051 or -0.04 %\n",
      "Features: 8 LOSS: 1.41091 DIFF -0.00097 or -0.07 %\n",
      "Features: 16 LOSS: 1.41065 DIFF -0.00026 or -0.02 %\n",
      "--------------------------------------\n",
      "EPOCH 13\n"
     ]
    },
    {
     "data": {
      "application/vnd.jupyter.widget-view+json": {
       "model_id": "caf26c279e754b99b44ea00f09505eb3",
       "version_major": 2,
       "version_minor": 0
      },
      "text/plain": [
       "  0%|          | 0/1419 [00:00<?, ?it/s]"
      ]
     },
     "metadata": {},
     "output_type": "display_data"
    },
    {
     "data": {
      "application/vnd.jupyter.widget-view+json": {
       "model_id": "43ca6acdf9684efe910f2eea05318dac",
       "version_major": 2,
       "version_minor": 0
      },
      "text/plain": [
       "  0%|          | 0/50 [00:00<?, ?it/s]"
      ]
     },
     "metadata": {},
     "output_type": "display_data"
    },
    {
     "name": "stdout",
     "output_type": "stream",
     "text": [
      "BEST ERROR OF 1.40834 WITH 16 NODES, USING 16 TOTAL NODES\n",
      "Features: 0 LOSS: 1.41197\n",
      "Features: 1 LOSS: 1.41123 DIFF -0.00074 or -0.05 %\n",
      "Features: 2 LOSS: 1.41088 DIFF -0.00035 or -0.03 %\n",
      "Features: 4 LOSS: 1.40953 DIFF -0.00135 or -0.1 %\n",
      "Features: 8 LOSS: 1.40861 DIFF -0.00092 or -0.07 %\n",
      "Features: 16 LOSS: 1.40834 DIFF -0.00027 or -0.02 %\n",
      "--------------------------------------\n",
      "EPOCH 14\n"
     ]
    },
    {
     "data": {
      "application/vnd.jupyter.widget-view+json": {
       "model_id": "206907236ea746109f4088ef7eb54c22",
       "version_major": 2,
       "version_minor": 0
      },
      "text/plain": [
       "  0%|          | 0/1419 [00:00<?, ?it/s]"
      ]
     },
     "metadata": {},
     "output_type": "display_data"
    },
    {
     "data": {
      "application/vnd.jupyter.widget-view+json": {
       "model_id": "e8bc561401ef4bcea133e188ac756540",
       "version_major": 2,
       "version_minor": 0
      },
      "text/plain": [
       "  0%|          | 0/50 [00:00<?, ?it/s]"
      ]
     },
     "metadata": {},
     "output_type": "display_data"
    },
    {
     "name": "stdout",
     "output_type": "stream",
     "text": [
      "BEST ERROR OF 1.40224 WITH 16 NODES, USING 16 TOTAL NODES\n",
      "Features: 0 LOSS: 1.40499\n",
      "Features: 1 LOSS: 1.40451 DIFF -0.00047 or -0.03 %\n",
      "Features: 2 LOSS: 1.40414 DIFF -0.00037 or -0.03 %\n",
      "Features: 4 LOSS: 1.40349 DIFF -0.00065 or -0.05 %\n",
      "Features: 8 LOSS: 1.40265 DIFF -0.00084 or -0.06 %\n",
      "Features: 16 LOSS: 1.40224 DIFF -0.00041 or -0.03 %\n",
      "--------------------------------------\n",
      "EPOCH 15\n"
     ]
    },
    {
     "data": {
      "application/vnd.jupyter.widget-view+json": {
       "model_id": "c017640568984b5a91b263ed5de90c74",
       "version_major": 2,
       "version_minor": 0
      },
      "text/plain": [
       "  0%|          | 0/1419 [00:00<?, ?it/s]"
      ]
     },
     "metadata": {},
     "output_type": "display_data"
    },
    {
     "data": {
      "application/vnd.jupyter.widget-view+json": {
       "model_id": "164651b006484e0280b053a40a8be814",
       "version_major": 2,
       "version_minor": 0
      },
      "text/plain": [
       "  0%|          | 0/50 [00:00<?, ?it/s]"
      ]
     },
     "metadata": {},
     "output_type": "display_data"
    },
    {
     "name": "stdout",
     "output_type": "stream",
     "text": [
      "BEST ERROR OF 1.3943 WITH 16 NODES, USING 16 TOTAL NODES\n",
      "Features: 0 LOSS: 1.3969\n",
      "Features: 1 LOSS: 1.39642 DIFF -0.00048 or -0.03 %\n",
      "Features: 2 LOSS: 1.39598 DIFF -0.00044 or -0.03 %\n",
      "Features: 4 LOSS: 1.39534 DIFF -0.00064 or -0.05 %\n",
      "Features: 8 LOSS: 1.39454 DIFF -0.0008 or -0.06 %\n",
      "Features: 16 LOSS: 1.3943 DIFF -0.00024 or -0.02 %\n",
      "--------------------------------------\n",
      "EPOCH 16\n"
     ]
    },
    {
     "data": {
      "application/vnd.jupyter.widget-view+json": {
       "model_id": "315373c04c2c4c4a86d19b6cfbdf6981",
       "version_major": 2,
       "version_minor": 0
      },
      "text/plain": [
       "  0%|          | 0/1419 [00:00<?, ?it/s]"
      ]
     },
     "metadata": {},
     "output_type": "display_data"
    },
    {
     "data": {
      "application/vnd.jupyter.widget-view+json": {
       "model_id": "9eb7895bf6724e949cefd0793ada9977",
       "version_major": 2,
       "version_minor": 0
      },
      "text/plain": [
       "  0%|          | 0/50 [00:00<?, ?it/s]"
      ]
     },
     "metadata": {},
     "output_type": "display_data"
    },
    {
     "name": "stdout",
     "output_type": "stream",
     "text": [
      "BEST ERROR OF 1.39153 WITH 16 NODES, USING 16 TOTAL NODES\n",
      "Features: 0 LOSS: 1.39411\n",
      "Features: 1 LOSS: 1.39358 DIFF -0.00053 or -0.04 %\n",
      "Features: 2 LOSS: 1.39321 DIFF -0.00037 or -0.03 %\n",
      "Features: 4 LOSS: 1.39266 DIFF -0.00055 or -0.04 %\n",
      "Features: 8 LOSS: 1.39182 DIFF -0.00085 or -0.06 %\n",
      "Features: 16 LOSS: 1.39153 DIFF -0.00029 or -0.02 %\n",
      "--------------------------------------\n",
      "EPOCH 17\n"
     ]
    },
    {
     "data": {
      "application/vnd.jupyter.widget-view+json": {
       "model_id": "dc7c2fe0299c49f1b48125b1014514d1",
       "version_major": 2,
       "version_minor": 0
      },
      "text/plain": [
       "  0%|          | 0/1419 [00:00<?, ?it/s]"
      ]
     },
     "metadata": {},
     "output_type": "display_data"
    },
    {
     "data": {
      "application/vnd.jupyter.widget-view+json": {
       "model_id": "7171162949cf4f57b9a71c310f4c4f1f",
       "version_major": 2,
       "version_minor": 0
      },
      "text/plain": [
       "  0%|          | 0/50 [00:00<?, ?it/s]"
      ]
     },
     "metadata": {},
     "output_type": "display_data"
    },
    {
     "name": "stdout",
     "output_type": "stream",
     "text": [
      "BEST ERROR OF 1.38932 WITH 16 NODES, USING 16 TOTAL NODES\n",
      "Features: 0 LOSS: 1.39237\n",
      "Features: 1 LOSS: 1.39194 DIFF -0.00043 or -0.03 %\n",
      "Features: 2 LOSS: 1.39154 DIFF -0.0004 or -0.03 %\n",
      "Features: 4 LOSS: 1.39092 DIFF -0.00062 or -0.04 %\n",
      "Features: 8 LOSS: 1.3898 DIFF -0.00113 or -0.08 %\n",
      "Features: 16 LOSS: 1.38932 DIFF -0.00047 or -0.03 %\n",
      "--------------------------------------\n",
      "EPOCH 18\n"
     ]
    },
    {
     "data": {
      "application/vnd.jupyter.widget-view+json": {
       "model_id": "353b50467daf4fc4a838af62e6b03595",
       "version_major": 2,
       "version_minor": 0
      },
      "text/plain": [
       "  0%|          | 0/1419 [00:00<?, ?it/s]"
      ]
     },
     "metadata": {},
     "output_type": "display_data"
    },
    {
     "data": {
      "application/vnd.jupyter.widget-view+json": {
       "model_id": "1151d29bcef24eb28a81d7d23cbf46c3",
       "version_major": 2,
       "version_minor": 0
      },
      "text/plain": [
       "  0%|          | 0/50 [00:00<?, ?it/s]"
      ]
     },
     "metadata": {},
     "output_type": "display_data"
    },
    {
     "name": "stdout",
     "output_type": "stream",
     "text": [
      "BEST ERROR OF 1.38654 WITH 16 NODES, USING 16 TOTAL NODES\n",
      "Features: 0 LOSS: 1.38959\n",
      "Features: 1 LOSS: 1.38914 DIFF -0.00045 or -0.03 %\n",
      "Features: 2 LOSS: 1.3888 DIFF -0.00035 or -0.02 %\n",
      "Features: 4 LOSS: 1.38807 DIFF -0.00073 or -0.05 %\n",
      "Features: 8 LOSS: 1.38694 DIFF -0.00113 or -0.08 %\n",
      "Features: 16 LOSS: 1.38654 DIFF -0.0004 or -0.03 %\n",
      "--------------------------------------\n",
      "EPOCH 19\n"
     ]
    },
    {
     "data": {
      "application/vnd.jupyter.widget-view+json": {
       "model_id": "3b176d9464fd48f09f2d3358cabbb210",
       "version_major": 2,
       "version_minor": 0
      },
      "text/plain": [
       "  0%|          | 0/1419 [00:00<?, ?it/s]"
      ]
     },
     "metadata": {},
     "output_type": "display_data"
    },
    {
     "data": {
      "application/vnd.jupyter.widget-view+json": {
       "model_id": "801606963ced49038b9787ac5890cc7c",
       "version_major": 2,
       "version_minor": 0
      },
      "text/plain": [
       "  0%|          | 0/50 [00:00<?, ?it/s]"
      ]
     },
     "metadata": {},
     "output_type": "display_data"
    },
    {
     "name": "stdout",
     "output_type": "stream",
     "text": [
      "BEST ERROR OF 1.38528 WITH 16 NODES, USING 16 TOTAL NODES\n",
      "Features: 0 LOSS: 1.38819\n",
      "Features: 1 LOSS: 1.38765 DIFF -0.00054 or -0.04 %\n",
      "Features: 2 LOSS: 1.38721 DIFF -0.00045 or -0.03 %\n",
      "Features: 4 LOSS: 1.38655 DIFF -0.00066 or -0.05 %\n",
      "Features: 8 LOSS: 1.38563 DIFF -0.00092 or -0.07 %\n",
      "Features: 16 LOSS: 1.38528 DIFF -0.00036 or -0.03 %\n",
      "--------------------------------------\n",
      "EPOCH 20\n"
     ]
    },
    {
     "data": {
      "application/vnd.jupyter.widget-view+json": {
       "model_id": "e878a63f0e8849bbb943d6f3363b215e",
       "version_major": 2,
       "version_minor": 0
      },
      "text/plain": [
       "  0%|          | 0/1419 [00:00<?, ?it/s]"
      ]
     },
     "metadata": {},
     "output_type": "display_data"
    },
    {
     "data": {
      "application/vnd.jupyter.widget-view+json": {
       "model_id": "eccc49c833d348deade6c907b679cdd1",
       "version_major": 2,
       "version_minor": 0
      },
      "text/plain": [
       "  0%|          | 0/50 [00:00<?, ?it/s]"
      ]
     },
     "metadata": {},
     "output_type": "display_data"
    },
    {
     "name": "stdout",
     "output_type": "stream",
     "text": [
      "BEST ERROR OF 1.38385 WITH 16 NODES, USING 16 TOTAL NODES\n",
      "Features: 0 LOSS: 1.38696\n",
      "Features: 1 LOSS: 1.38659 DIFF -0.00037 or -0.03 %\n",
      "Features: 2 LOSS: 1.38622 DIFF -0.00037 or -0.03 %\n",
      "Features: 4 LOSS: 1.38542 DIFF -0.0008 or -0.06 %\n",
      "Features: 8 LOSS: 1.3843 DIFF -0.00112 or -0.08 %\n",
      "Features: 16 LOSS: 1.38385 DIFF -0.00045 or -0.03 %\n",
      "--------------------------------------\n",
      "EPOCH 21\n"
     ]
    },
    {
     "data": {
      "application/vnd.jupyter.widget-view+json": {
       "model_id": "5fc2c91c7e904475a8e6e5044aaa0871",
       "version_major": 2,
       "version_minor": 0
      },
      "text/plain": [
       "  0%|          | 0/1419 [00:00<?, ?it/s]"
      ]
     },
     "metadata": {},
     "output_type": "display_data"
    },
    {
     "data": {
      "application/vnd.jupyter.widget-view+json": {
       "model_id": "8dfbabe23d964fdea16b28fef21a33e8",
       "version_major": 2,
       "version_minor": 0
      },
      "text/plain": [
       "  0%|          | 0/50 [00:00<?, ?it/s]"
      ]
     },
     "metadata": {},
     "output_type": "display_data"
    },
    {
     "name": "stdout",
     "output_type": "stream",
     "text": [
      "BEST ERROR OF 1.38065 WITH 16 NODES, USING 16 TOTAL NODES\n",
      "Features: 0 LOSS: 1.38387\n",
      "Features: 1 LOSS: 1.38342 DIFF -0.00044 or -0.03 %\n",
      "Features: 2 LOSS: 1.38307 DIFF -0.00036 or -0.03 %\n",
      "Features: 4 LOSS: 1.38227 DIFF -0.0008 or -0.06 %\n",
      "Features: 8 LOSS: 1.38111 DIFF -0.00116 or -0.08 %\n",
      "Features: 16 LOSS: 1.38065 DIFF -0.00046 or -0.03 %\n",
      "--------------------------------------\n",
      "EPOCH 22\n"
     ]
    },
    {
     "data": {
      "application/vnd.jupyter.widget-view+json": {
       "model_id": "ed445ad4744942deaafdaf0a549b6ed7",
       "version_major": 2,
       "version_minor": 0
      },
      "text/plain": [
       "  0%|          | 0/1419 [00:00<?, ?it/s]"
      ]
     },
     "metadata": {},
     "output_type": "display_data"
    },
    {
     "data": {
      "application/vnd.jupyter.widget-view+json": {
       "model_id": "a3c325f22e3e41978c03d1ffb9d992dc",
       "version_major": 2,
       "version_minor": 0
      },
      "text/plain": [
       "  0%|          | 0/50 [00:00<?, ?it/s]"
      ]
     },
     "metadata": {},
     "output_type": "display_data"
    },
    {
     "name": "stdout",
     "output_type": "stream",
     "text": [
      "BEST ERROR OF 1.38033 WITH 16 NODES, USING 16 TOTAL NODES\n",
      "Features: 0 LOSS: 1.38343\n",
      "Features: 1 LOSS: 1.38298 DIFF -0.00045 or -0.03 %\n",
      "Features: 2 LOSS: 1.38261 DIFF -0.00037 or -0.03 %\n",
      "Features: 4 LOSS: 1.38178 DIFF -0.00084 or -0.06 %\n",
      "Features: 8 LOSS: 1.38078 DIFF -0.001 or -0.07 %\n",
      "Features: 16 LOSS: 1.38033 DIFF -0.00045 or -0.03 %\n",
      "--------------------------------------\n",
      "EPOCH 23\n"
     ]
    },
    {
     "data": {
      "application/vnd.jupyter.widget-view+json": {
       "model_id": "4c2d1d7e88b542c9a9f484cea6e7148b",
       "version_major": 2,
       "version_minor": 0
      },
      "text/plain": [
       "  0%|          | 0/1419 [00:00<?, ?it/s]"
      ]
     },
     "metadata": {},
     "output_type": "display_data"
    },
    {
     "data": {
      "application/vnd.jupyter.widget-view+json": {
       "model_id": "98b6b6fa46b74e1c98232bb695a616b2",
       "version_major": 2,
       "version_minor": 0
      },
      "text/plain": [
       "  0%|          | 0/50 [00:00<?, ?it/s]"
      ]
     },
     "metadata": {},
     "output_type": "display_data"
    },
    {
     "name": "stdout",
     "output_type": "stream",
     "text": [
      "BEST ERROR OF 1.38059 WITH 16 NODES, USING 16 TOTAL NODES\n",
      "Features: 0 LOSS: 1.38371\n",
      "Features: 1 LOSS: 1.38331 DIFF -0.00041 or -0.03 %\n",
      "Features: 2 LOSS: 1.38292 DIFF -0.00039 or -0.03 %\n",
      "Features: 4 LOSS: 1.3821 DIFF -0.00082 or -0.06 %\n",
      "Features: 8 LOSS: 1.3811 DIFF -0.001 or -0.07 %\n",
      "Features: 16 LOSS: 1.38059 DIFF -0.00051 or -0.04 %\n",
      "--------------------------------------\n",
      "EPOCH 24\n"
     ]
    },
    {
     "data": {
      "application/vnd.jupyter.widget-view+json": {
       "model_id": "b86db1cb25104919919f38ae3a759c46",
       "version_major": 2,
       "version_minor": 0
      },
      "text/plain": [
       "  0%|          | 0/1419 [00:00<?, ?it/s]"
      ]
     },
     "metadata": {},
     "output_type": "display_data"
    },
    {
     "data": {
      "application/vnd.jupyter.widget-view+json": {
       "model_id": "e67ae8c86bb74b8986f89dd6e91b04f4",
       "version_major": 2,
       "version_minor": 0
      },
      "text/plain": [
       "  0%|          | 0/50 [00:00<?, ?it/s]"
      ]
     },
     "metadata": {},
     "output_type": "display_data"
    },
    {
     "name": "stdout",
     "output_type": "stream",
     "text": [
      "BEST ERROR OF 1.38061 WITH 16 NODES, USING 16 TOTAL NODES\n",
      "Features: 0 LOSS: 1.38368\n",
      "Features: 1 LOSS: 1.38324 DIFF -0.00044 or -0.03 %\n",
      "Features: 2 LOSS: 1.3829 DIFF -0.00035 or -0.02 %\n",
      "Features: 4 LOSS: 1.38206 DIFF -0.00084 or -0.06 %\n",
      "Features: 8 LOSS: 1.3811 DIFF -0.00096 or -0.07 %\n",
      "Features: 16 LOSS: 1.38061 DIFF -0.00049 or -0.04 %\n",
      "--------------------------------------\n",
      "EPOCH 25\n"
     ]
    },
    {
     "data": {
      "application/vnd.jupyter.widget-view+json": {
       "model_id": "eb876d3f04264f4fa29c4926ccd6e155",
       "version_major": 2,
       "version_minor": 0
      },
      "text/plain": [
       "  0%|          | 0/1419 [00:00<?, ?it/s]"
      ]
     },
     "metadata": {},
     "output_type": "display_data"
    },
    {
     "data": {
      "application/vnd.jupyter.widget-view+json": {
       "model_id": "6073693328ca456fb9155dfee528cac1",
       "version_major": 2,
       "version_minor": 0
      },
      "text/plain": [
       "  0%|          | 0/50 [00:00<?, ?it/s]"
      ]
     },
     "metadata": {},
     "output_type": "display_data"
    },
    {
     "name": "stdout",
     "output_type": "stream",
     "text": [
      "BEST ERROR OF 1.38016 WITH 16 NODES, USING 16 TOTAL NODES\n",
      "Features: 0 LOSS: 1.38325\n",
      "Features: 1 LOSS: 1.38282 DIFF -0.00044 or -0.03 %\n",
      "Features: 2 LOSS: 1.38242 DIFF -0.0004 or -0.03 %\n",
      "Features: 4 LOSS: 1.38163 DIFF -0.00079 or -0.06 %\n",
      "Features: 8 LOSS: 1.38066 DIFF -0.00098 or -0.07 %\n",
      "Features: 16 LOSS: 1.38016 DIFF -0.0005 or -0.04 %\n"
     ]
    }
   ],
   "source": [
    "#the ROAR training objective is very complex, 25 epochs is not enough to fully explore the data but it's good enough for a demo\n",
    "model = train_model(trainldr, testldr, model=model, epochs=25, test_batches=50,\n",
    "                    checkpoint_filename=\"model.pyt\", epochs_between_test=1, lr=1e-4,\n",
    "                    label_smoothing=0.01, weight_decay=0.01)"
   ]
  },
  {
   "cell_type": "markdown",
   "id": "bbbd468f-a36c-4e56-9032-17b634a49061",
   "metadata": {},
   "source": [
    "################################################################################################################################\n",
    "# Plotting Clusters\n",
    "################################################################################################################################"
   ]
  },
  {
   "cell_type": "markdown",
   "id": "9c9d4306-847d-458a-929d-b2932bfd1e85",
   "metadata": {},
   "source": [
    "## Load The Trained Model From The Saved Checkpoint\n",
    "Requires whatever initial parameters were used to create the trained model"
   ]
  },
  {
   "cell_type": "code",
   "execution_count": 14,
   "id": "59deab18-bd4c-4c08-9d0f-b2593087133b",
   "metadata": {},
   "outputs": [
    {
     "name": "stderr",
     "output_type": "stream",
     "text": [
      "/tmp/ipykernel_371338/853156252.py:6: FutureWarning: You are using `torch.load` with `weights_only=False` (the current default value), which uses the default pickle module implicitly. It is possible to construct malicious pickle data which will execute arbitrary code during unpickling (See https://github.com/pytorch/pytorch/blob/main/SECURITY.md#untrusted-models for more details). In a future release, the default value for `weights_only` will be flipped to `True`. This limits the functions that could be executed during unpickling. Arbitrary objects will no longer be allowed to be loaded via this mode unless they are explicitly allowlisted by the user via `torch.serialization.add_safe_globals`. We recommend you start setting `weights_only=True` for any use case where you don't have full control of the loaded file. Please open an issue on GitHub for any issues related to this experimental feature.\n",
      "  model.load_state_dict(torch.load(\"model.pyt\"))\n"
     ]
    },
    {
     "data": {
      "text/plain": [
       "<All keys matched successfully>"
      ]
     },
     "execution_count": 14,
     "metadata": {},
     "output_type": "execute_result"
    }
   ],
   "source": [
    "device = torch.device(\"cuda\" if torch.cuda.is_available() else \"cpu\")\n",
    "model = MedROAR(n_embedding=64, n_type_embedding=1344, d_model=512, d_ff=2048, num_heads=8, depth=8, n_translation_layers=8, n_bits=16,\n",
    "                            binary_encodings=True, ordered_encodings=True, \n",
    "                            make_encodings=True, learn_partial_encodings=True).to(device)\n",
    "\n",
    "model.load_state_dict(torch.load(\"model.pyt\"))"
   ]
  },
  {
   "cell_type": "markdown",
   "id": "65e018ea-9c38-4347-9a9e-370826e15f53",
   "metadata": {},
   "source": [
    "## Use Demographics Plus The First X Hours of Time-Series Data To Make Clusters\n",
    "Do not include diagnoses."
   ]
  },
  {
   "cell_type": "code",
   "execution_count": 15,
   "id": "ddb7d781-b2a2-4347-8af1-f1c9ce45e392",
   "metadata": {},
   "outputs": [],
   "source": [
    "#remember that position 2048 in the prepared data corresponds to 14 days of time \n",
    "one_hour = 2048/(24*14)\n",
    "\n",
    "################################################\n",
    "#Change this to change the number of hours used\n",
    "################################################\n",
    "max_hours = 8\n",
    "############################\n",
    "\n",
    "#get information only from patients who have information later than max_hours (i.e. were not discharged or died earlier than that)\n",
    "key2 = np.nan_to_num(positions).max(axis=1) > (one_hour*max_hours)\n",
    "\n",
    "tab_test_temp = tabular_data[key2].copy()\n",
    "\n",
    "#zero out all diagnoses, we will not use them here\n",
    "types_diagnoses_temp = types_diagnoses[key2].copy() \n",
    "values_diagnoses_temp = values_diagnoses[key2].copy()\n",
    "types_diagnoses_temp[:] = np.nan\n",
    "values_diagnoses_temp[:] = np.nan\n",
    "\n",
    "types_test_temp = types[key2].copy()\n",
    "values_test_temp = values[key2].copy()\n",
    "positions_test_temp = positions[key2].copy()\n",
    "outcomes_test_temp = outcome_data[key2].copy()\n",
    "ids_test_temp = hadm_ids[key2].copy()\n",
    "\n",
    "key = np.nan_to_num(positions_test_temp) > (one_hour*max_hours)\n",
    "\n",
    "#zero out all positions after max_hours\n",
    "types_test_temp[key] = np.nan\n",
    "values_test_temp[key] = np.nan\n",
    "positions_test_temp[key] = np.nan"
   ]
  },
  {
   "cell_type": "markdown",
   "id": "532799ea-069b-43f2-8521-a102b2a377e8",
   "metadata": {},
   "source": [
    "## Define Helper Functions To Encode The Data"
   ]
  },
  {
   "cell_type": "code",
   "execution_count": 16,
   "id": "5fd18643-33e2-4a7d-88a8-75093a76e74a",
   "metadata": {},
   "outputs": [],
   "source": [
    "def embed_data(model, dlr, batches=5000):\n",
    "    embeddings = []\n",
    "    labels = []\n",
    "    ids = []\n",
    "    torch.manual_seed(0)\n",
    "    model.eval()\n",
    "    with torch.no_grad(): \n",
    "        pbar = tqdm(range(batches))\n",
    "        iterator = iter(dlr)\n",
    "        num_tests_done = 0\n",
    "        for test_iter in pbar: \n",
    "            batch = next(iterator, None)\n",
    "            if batch is not None:\n",
    "                x_tab_test, x_diagnoses_types_test, x_diagnoses_values_test, x_seq_types_test, x_seq_values_test, x_seq_positions_test, y_test, hadm_id = batch\n",
    "                x_test_tab, x_test_diag, x_test_seq = embed_sample((x_tab_test, x_diagnoses_types_test, x_diagnoses_values_test, x_seq_types_test, x_seq_values_test, x_seq_positions_test), device=device)\n",
    "                \n",
    "                x_test_type_reordered, x_test_value_reordered, seq_order = scramble_order([x_test_tab, x_test_diag], x_test_seq, device=device)\n",
    "                \n",
    "                with torch.amp.autocast(\"cuda\"):\n",
    "                    enc, output = model((x_test_type_reordered, x_test_value_reordered, seq_order))\n",
    "                    embeddings.append(enc.cpu().numpy())\n",
    "                    labels.append(y_test.cpu().numpy())\n",
    "                    ids.append(hadm_id.cpu().numpy())\n",
    "    return np.concatenate(embeddings), np.concatenate(labels), np.concatenate(ids)\n",
    "\n",
    "def encode_dataset(X, y, ids):\n",
    "    tab_test, types_diagnoses_test, values_diagnoses_test, types_test, values_test, positions_test = X\n",
    "\n",
    "    embedding_dts = torch.utils.data.TensorDataset(torch.tensor(tab_test), torch.tensor(types_diagnoses_test), torch.tensor(values_diagnoses_test), torch.tensor(types_test), torch.tensor(values_test), torch.tensor(positions_test), torch.tensor(y), torch.tensor(ids))\n",
    "    embedding_dlr = torch.utils.data.DataLoader(embedding_dts, batch_size=64)\n",
    "    x_emb, y_emb, ids_emb = embed_data(model, embedding_dlr)\n",
    "    X = pd.DataFrame(x_emb)\n",
    "    y = pd.DataFrame(y_emb)\n",
    "    ids = pd.DataFrame(ids_emb)\n",
    "    return X, y, ids"
   ]
  },
  {
   "cell_type": "markdown",
   "id": "dc4498b4-5513-4091-a49e-6e97722c6f26",
   "metadata": {},
   "source": [
    "## Encode The Dataset Using a Helper Function Imported From Utils\n",
    "* X = the encoded data\n",
    "* y = patient survived(1/0)\n",
    "* X_ids = patient IDs"
   ]
  },
  {
   "cell_type": "code",
   "execution_count": 17,
   "id": "ee4b27f8-688d-46c5-89e1-1418ead46887",
   "metadata": {},
   "outputs": [
    {
     "data": {
      "application/vnd.jupyter.widget-view+json": {
       "model_id": "a29defe07df245a19c2282234dcb49d7",
       "version_major": 2,
       "version_minor": 0
      },
      "text/plain": [
       "  0%|          | 0/5000 [00:00<?, ?it/s]"
      ]
     },
     "metadata": {},
     "output_type": "display_data"
    }
   ],
   "source": [
    "X, y, X_ids = encode_dataset((tab_test_temp, types_diagnoses_temp, values_diagnoses_temp, types_test_temp, values_test_temp, positions_test_temp), outcomes_test_temp, ids_test_temp)"
   ]
  },
  {
   "cell_type": "markdown",
   "id": "d31b8678-0523-48d3-b27c-c4adc3bcb939",
   "metadata": {},
   "source": [
    "## Use Patient IDs as The Index For The DataFrame"
   ]
  },
  {
   "cell_type": "code",
   "execution_count": 18,
   "id": "0dd30a9e-cd21-43a5-9eb3-d24e72f48a63",
   "metadata": {},
   "outputs": [],
   "source": [
    "X[\"hadm_id\"] = X_ids\n",
    "X = X.set_index(\"hadm_id\")\n",
    "\n",
    "y[\"hadm_id\"] = X_ids\n",
    "y = y.set_index(\"hadm_id\")\n",
    "\n",
    "encodings = X.copy()"
   ]
  },
  {
   "cell_type": "markdown",
   "id": "b08228b6-5a21-4029-bccf-68a4f7ac9297",
   "metadata": {},
   "source": [
    "## Load Patient Diagnoses Extracted in The Data Prep Notebook"
   ]
  },
  {
   "cell_type": "code",
   "execution_count": 20,
   "id": "81015253-b3e1-43e0-8e91-65220cd6e39b",
   "metadata": {},
   "outputs": [
    {
     "data": {
      "text/html": [
       "<div>\n",
       "<style scoped>\n",
       "    .dataframe tbody tr th:only-of-type {\n",
       "        vertical-align: middle;\n",
       "    }\n",
       "\n",
       "    .dataframe tbody tr th {\n",
       "        vertical-align: top;\n",
       "    }\n",
       "\n",
       "    .dataframe thead th {\n",
       "        text-align: right;\n",
       "    }\n",
       "</style>\n",
       "<table border=\"1\" class=\"dataframe\">\n",
       "  <thead>\n",
       "    <tr style=\"text-align: right;\">\n",
       "      <th></th>\n",
       "      <th>icd_code</th>\n",
       "      <th>icd_version</th>\n",
       "      <th>long_title</th>\n",
       "    </tr>\n",
       "    <tr>\n",
       "      <th>hadm_id</th>\n",
       "      <th></th>\n",
       "      <th></th>\n",
       "      <th></th>\n",
       "    </tr>\n",
       "  </thead>\n",
       "  <tbody>\n",
       "    <tr>\n",
       "      <th>20000019</th>\n",
       "      <td>5849</td>\n",
       "      <td>9</td>\n",
       "      <td>Acute kidney failure, unspecified</td>\n",
       "    </tr>\n",
       "    <tr>\n",
       "      <th>20000019</th>\n",
       "      <td>75310</td>\n",
       "      <td>9</td>\n",
       "      <td>Cystic kidney disease, unspecified</td>\n",
       "    </tr>\n",
       "    <tr>\n",
       "      <th>20000019</th>\n",
       "      <td>2724</td>\n",
       "      <td>9</td>\n",
       "      <td>Other and unspecified hyperlipidemia</td>\n",
       "    </tr>\n",
       "    <tr>\n",
       "      <th>20000019</th>\n",
       "      <td>99591</td>\n",
       "      <td>9</td>\n",
       "      <td>Sepsis</td>\n",
       "    </tr>\n",
       "    <tr>\n",
       "      <th>20000019</th>\n",
       "      <td>49390</td>\n",
       "      <td>9</td>\n",
       "      <td>Asthma, unspecified type, unspecified</td>\n",
       "    </tr>\n",
       "    <tr>\n",
       "      <th>...</th>\n",
       "      <td>...</td>\n",
       "      <td>...</td>\n",
       "      <td>...</td>\n",
       "    </tr>\n",
       "    <tr>\n",
       "      <th>29999928</th>\n",
       "      <td>I959</td>\n",
       "      <td>10</td>\n",
       "      <td>Hypotension, unspecified</td>\n",
       "    </tr>\n",
       "    <tr>\n",
       "      <th>29999928</th>\n",
       "      <td>I723</td>\n",
       "      <td>10</td>\n",
       "      <td>Aneurysm of iliac artery</td>\n",
       "    </tr>\n",
       "    <tr>\n",
       "      <th>29999928</th>\n",
       "      <td>E785</td>\n",
       "      <td>10</td>\n",
       "      <td>Hyperlipidemia, unspecified</td>\n",
       "    </tr>\n",
       "    <tr>\n",
       "      <th>29999928</th>\n",
       "      <td>K5900</td>\n",
       "      <td>10</td>\n",
       "      <td>Constipation, unspecified</td>\n",
       "    </tr>\n",
       "    <tr>\n",
       "      <th>29999928</th>\n",
       "      <td>Z8241</td>\n",
       "      <td>10</td>\n",
       "      <td>Family history of sudden cardiac death</td>\n",
       "    </tr>\n",
       "  </tbody>\n",
       "</table>\n",
       "<p>5280351 rows × 3 columns</p>\n",
       "</div>"
      ],
      "text/plain": [
       "         icd_code  icd_version                              long_title\n",
       "hadm_id                                                               \n",
       "20000019     5849            9       Acute kidney failure, unspecified\n",
       "20000019    75310            9      Cystic kidney disease, unspecified\n",
       "20000019     2724            9    Other and unspecified hyperlipidemia\n",
       "20000019    99591            9                                  Sepsis\n",
       "20000019    49390            9   Asthma, unspecified type, unspecified\n",
       "...           ...          ...                                     ...\n",
       "29999928     I959           10                Hypotension, unspecified\n",
       "29999928     I723           10                Aneurysm of iliac artery\n",
       "29999928     E785           10             Hyperlipidemia, unspecified\n",
       "29999928    K5900           10               Constipation, unspecified\n",
       "29999928    Z8241           10  Family history of sudden cardiac death\n",
       "\n",
       "[5280351 rows x 3 columns]"
      ]
     },
     "execution_count": 20,
     "metadata": {},
     "output_type": "execute_result"
    }
   ],
   "source": [
    "patient_diagnoses = pd.read_csv(\"mimic_patient_diagnoses.csv.gz\").set_index(\"hadm_id\")\n",
    "patient_diagnoses"
   ]
  },
  {
   "cell_type": "markdown",
   "id": "41be02be-8a5b-413c-9169-1e98285bde00",
   "metadata": {},
   "source": [
    "## Define a Helper Function to Plot Clusters of Patients Based on Diagnoses"
   ]
  },
  {
   "cell_type": "code",
   "execution_count": 21,
   "id": "c1da01a6-54fc-4070-b361-b8d64cb27a8b",
   "metadata": {},
   "outputs": [],
   "source": [
    "def plot_diagnosis_clusters(patient_diagnoses, encodings, icd_9_codes, icd_10_codes, condition_name_str):\n",
    "    key = pd.Series(index=patient_diagnoses.index, dtype=bool)\n",
    "    key[:] = False\n",
    "    for code in icd_10_codes:\n",
    "        matching_diagnoses = patient_diagnoses[(patient_diagnoses.icd_version == 10) & (patient_diagnoses.icd_code.str.startswith(code))].index\n",
    "        key.loc[matching_diagnoses] = True\n",
    "    \n",
    "    for code in icd_9_codes:\n",
    "        matching_diagnoses = patient_diagnoses[(patient_diagnoses.icd_version == 9) & (patient_diagnoses.icd_code.str.startswith(code))].index\n",
    "        key.loc[matching_diagnoses] = True\n",
    "    key = key[key==True].reset_index().drop_duplicates().hadm_id\n",
    "    key = key[key.isin(encodings.index)]\n",
    "    \n",
    "    encodings[\"label\"] = False\n",
    "    encodings.loc[key, \"label\"] = True\n",
    "    return make_binary_plot(encodings, plot_title=condition_name_str)"
   ]
  },
  {
   "cell_type": "markdown",
   "id": "3bdac656-9486-4ad7-a823-e65ea55e8369",
   "metadata": {},
   "source": [
    "## Plot Clusters For Stroke\n",
    "These will be better than the ones reported in the paper since we trained on data where diagnoses were included. The models clusters are actually aware of what humans consider diagnostically distinct conditions."
   ]
  },
  {
   "cell_type": "code",
   "execution_count": 22,
   "id": "06ba3b96-6265-49cb-8fd1-59f0e17a1a3e",
   "metadata": {},
   "outputs": [
    {
     "name": "stderr",
     "output_type": "stream",
     "text": [
      "/opt/conda/lib/python3.12/site-packages/numpy/core/_methods.py:206: RuntimeWarning: Degrees of freedom <= 0 for slice\n",
      "  ret = _var(a, axis=axis, dtype=dtype, out=out, ddof=ddof,\n",
      "/opt/conda/lib/python3.12/site-packages/numpy/core/_methods.py:198: RuntimeWarning: invalid value encountered in scalar divide\n",
      "  ret = ret.dtype.type(ret / rcount)\n"
     ]
    },
    {
     "data": {
      "image/png": "[encoded data removed]",
      "text/plain": [
       "<Figure size 2500x300 with 1 Axes>"
      ]
     },
     "metadata": {},
     "output_type": "display_data"
    },
    {
     "name": "stdout",
     "output_type": "stream",
     "text": [
      "key                   []\n",
      "Node Depth             0\n",
      "Cluster Mean    0.081848\n",
      "99% CI Low      0.078709\n",
      "99% CI High     0.085067\n",
      "Count              49653\n",
      "Z                    0.0\n",
      "P                    1.0\n",
      "Name: 0, dtype: object\n"
     ]
    },
    {
     "data": {
      "text/html": [
       "<div>\n",
       "<style scoped>\n",
       "    .dataframe tbody tr th:only-of-type {\n",
       "        vertical-align: middle;\n",
       "    }\n",
       "\n",
       "    .dataframe tbody tr th {\n",
       "        vertical-align: top;\n",
       "    }\n",
       "\n",
       "    .dataframe thead th {\n",
       "        text-align: right;\n",
       "    }\n",
       "</style>\n",
       "<table border=\"1\" class=\"dataframe\">\n",
       "  <thead>\n",
       "    <tr style=\"text-align: right;\">\n",
       "      <th></th>\n",
       "      <th>key</th>\n",
       "      <th>Node Depth</th>\n",
       "      <th>Cluster Mean</th>\n",
       "      <th>99% CI Low</th>\n",
       "      <th>99% CI High</th>\n",
       "      <th>Count</th>\n",
       "      <th>Z</th>\n",
       "      <th>P</th>\n",
       "      <th>FDR Adjusted P</th>\n",
       "      <th>Measurement</th>\n",
       "      <th>Whole Population Mean</th>\n",
       "    </tr>\n",
       "  </thead>\n",
       "  <tbody>\n",
       "    <tr>\n",
       "      <th>27410</th>\n",
       "      <td>[True, True, True, False, False, False, True, ...</td>\n",
       "      <td>15</td>\n",
       "      <td>1.000000</td>\n",
       "      <td>0.588704</td>\n",
       "      <td>1.000000</td>\n",
       "      <td>10</td>\n",
       "      <td>10.579454</td>\n",
       "      <td>3.711150e-26</td>\n",
       "      <td>5.992591e-24</td>\n",
       "      <td>Stroke</td>\n",
       "      <td>0.081848</td>\n",
       "    </tr>\n",
       "    <tr>\n",
       "      <th>15077</th>\n",
       "      <td>[True, True, True, True, False, False, True, T...</td>\n",
       "      <td>14</td>\n",
       "      <td>0.842105</td>\n",
       "      <td>0.531842</td>\n",
       "      <td>0.981384</td>\n",
       "      <td>19</td>\n",
       "      <td>12.066784</td>\n",
       "      <td>1.581970e-33</td>\n",
       "      <td>3.405988e-31</td>\n",
       "      <td>Stroke</td>\n",
       "      <td>0.081848</td>\n",
       "    </tr>\n",
       "    <tr>\n",
       "      <th>8094</th>\n",
       "      <td>[True, True, True, True, False, False, True, T...</td>\n",
       "      <td>13</td>\n",
       "      <td>0.791667</td>\n",
       "      <td>0.514536</td>\n",
       "      <td>0.952070</td>\n",
       "      <td>24</td>\n",
       "      <td>12.657849</td>\n",
       "      <td>1.012352e-36</td>\n",
       "      <td>2.496631e-34</td>\n",
       "      <td>Stroke</td>\n",
       "      <td>0.081848</td>\n",
       "    </tr>\n",
       "    <tr>\n",
       "      <th>4214</th>\n",
       "      <td>[True, True, True, False, False, False, True, ...</td>\n",
       "      <td>12</td>\n",
       "      <td>0.714286</td>\n",
       "      <td>0.484535</td>\n",
       "      <td>0.884619</td>\n",
       "      <td>35</td>\n",
       "      <td>13.610186</td>\n",
       "      <td>3.483569e-42</td>\n",
       "      <td>1.073883e-39</td>\n",
       "      <td>Stroke</td>\n",
       "      <td>0.081848</td>\n",
       "    </tr>\n",
       "    <tr>\n",
       "      <th>7997</th>\n",
       "      <td>[True, True, True, False, False, False, True, ...</td>\n",
       "      <td>13</td>\n",
       "      <td>0.789474</td>\n",
       "      <td>0.472890</td>\n",
       "      <td>0.962231</td>\n",
       "      <td>19</td>\n",
       "      <td>11.232670</td>\n",
       "      <td>2.818307e-29</td>\n",
       "      <td>5.461042e-27</td>\n",
       "      <td>Stroke</td>\n",
       "      <td>0.081848</td>\n",
       "    </tr>\n",
       "    <tr>\n",
       "      <th>15247</th>\n",
       "      <td>[False, True, True, True, False, True, True, T...</td>\n",
       "      <td>14</td>\n",
       "      <td>0.724138</td>\n",
       "      <td>0.470138</td>\n",
       "      <td>0.903611</td>\n",
       "      <td>29</td>\n",
       "      <td>12.587463</td>\n",
       "      <td>2.475003e-36</td>\n",
       "      <td>5.889606e-34</td>\n",
       "      <td>Stroke</td>\n",
       "      <td>0.081848</td>\n",
       "    </tr>\n",
       "    <tr>\n",
       "      <th>2109</th>\n",
       "      <td>[False, True, True, True, False, True, True, T...</td>\n",
       "      <td>11</td>\n",
       "      <td>0.586777</td>\n",
       "      <td>0.465759</td>\n",
       "      <td>0.700781</td>\n",
       "      <td>121</td>\n",
       "      <td>20.099769</td>\n",
       "      <td>7.413842e-90</td>\n",
       "      <td>1.005608e-86</td>\n",
       "      <td>Stroke</td>\n",
       "      <td>0.081848</td>\n",
       "    </tr>\n",
       "    <tr>\n",
       "      <th>28588</th>\n",
       "      <td>[False, True, True, True, False, True, True, T...</td>\n",
       "      <td>15</td>\n",
       "      <td>0.812500</td>\n",
       "      <td>0.465638</td>\n",
       "      <td>0.977692</td>\n",
       "      <td>16</td>\n",
       "      <td>10.645629</td>\n",
       "      <td>1.827456e-26</td>\n",
       "      <td>3.060183e-24</td>\n",
       "      <td>Stroke</td>\n",
       "      <td>0.081848</td>\n",
       "    </tr>\n",
       "    <tr>\n",
       "      <th>2226</th>\n",
       "      <td>[True, True, True, False, False, False, True, ...</td>\n",
       "      <td>11</td>\n",
       "      <td>0.637931</td>\n",
       "      <td>0.460819</td>\n",
       "      <td>0.791811</td>\n",
       "      <td>58</td>\n",
       "      <td>15.384299</td>\n",
       "      <td>2.086252e-53</td>\n",
       "      <td>9.757852e-51</td>\n",
       "      <td>Stroke</td>\n",
       "      <td>0.081848</td>\n",
       "    </tr>\n",
       "    <tr>\n",
       "      <th>2431</th>\n",
       "      <td>[False, True, True, True, False, False, False,...</td>\n",
       "      <td>11</td>\n",
       "      <td>0.578947</td>\n",
       "      <td>0.454185</td>\n",
       "      <td>0.696936</td>\n",
       "      <td>114</td>\n",
       "      <td>19.217882</td>\n",
       "      <td>2.622586e-82</td>\n",
       "      <td>2.736351e-79</td>\n",
       "      <td>Stroke</td>\n",
       "      <td>0.081848</td>\n",
       "    </tr>\n",
       "  </tbody>\n",
       "</table>\n",
       "</div>"
      ],
      "text/plain": [
       "                                                     key  Node Depth  \\\n",
       "27410  [True, True, True, False, False, False, True, ...          15   \n",
       "15077  [True, True, True, True, False, False, True, T...          14   \n",
       "8094   [True, True, True, True, False, False, True, T...          13   \n",
       "4214   [True, True, True, False, False, False, True, ...          12   \n",
       "7997   [True, True, True, False, False, False, True, ...          13   \n",
       "15247  [False, True, True, True, False, True, True, T...          14   \n",
       "2109   [False, True, True, True, False, True, True, T...          11   \n",
       "28588  [False, True, True, True, False, True, True, T...          15   \n",
       "2226   [True, True, True, False, False, False, True, ...          11   \n",
       "2431   [False, True, True, True, False, False, False,...          11   \n",
       "\n",
       "       Cluster Mean  99% CI Low  99% CI High  Count          Z             P  \\\n",
       "27410      1.000000    0.588704     1.000000     10  10.579454  3.711150e-26   \n",
       "15077      0.842105    0.531842     0.981384     19  12.066784  1.581970e-33   \n",
       "8094       0.791667    0.514536     0.952070     24  12.657849  1.012352e-36   \n",
       "4214       0.714286    0.484535     0.884619     35  13.610186  3.483569e-42   \n",
       "7997       0.789474    0.472890     0.962231     19  11.232670  2.818307e-29   \n",
       "15247      0.724138    0.470138     0.903611     29  12.587463  2.475003e-36   \n",
       "2109       0.586777    0.465759     0.700781    121  20.099769  7.413842e-90   \n",
       "28588      0.812500    0.465638     0.977692     16  10.645629  1.827456e-26   \n",
       "2226       0.637931    0.460819     0.791811     58  15.384299  2.086252e-53   \n",
       "2431       0.578947    0.454185     0.696936    114  19.217882  2.622586e-82   \n",
       "\n",
       "       FDR Adjusted P Measurement  Whole Population Mean  \n",
       "27410    5.992591e-24      Stroke               0.081848  \n",
       "15077    3.405988e-31      Stroke               0.081848  \n",
       "8094     2.496631e-34      Stroke               0.081848  \n",
       "4214     1.073883e-39      Stroke               0.081848  \n",
       "7997     5.461042e-27      Stroke               0.081848  \n",
       "15247    5.889606e-34      Stroke               0.081848  \n",
       "2109     1.005608e-86      Stroke               0.081848  \n",
       "28588    3.060183e-24      Stroke               0.081848  \n",
       "2226     9.757852e-51      Stroke               0.081848  \n",
       "2431     2.736351e-79      Stroke               0.081848  "
      ]
     },
     "execution_count": 22,
     "metadata": {},
     "output_type": "execute_result"
    }
   ],
   "source": [
    "stroke_icd_10_codes = [\"I60\", \"I61\", \"I62\", \"I63\"]\n",
    "stroke_icd_9_codes = [\"430\", \"431\", \"432\", \"433\", \"434\", \"436\"]\n",
    "clusters = plot_diagnosis_clusters(patient_diagnoses, encodings, stroke_icd_9_codes, stroke_icd_10_codes, \"Stroke\")\n",
    "clusters.sort_values(\"99% CI Low\", ascending=False)[:10]"
   ]
  },
  {
   "cell_type": "markdown",
   "id": "b47f055a-2eac-45f6-a553-64a02dfe0f44",
   "metadata": {},
   "source": [
    "## Plot Clusters For Patients Who Will Die In The Future\n",
    "Remember, the data only includes patients who have not already died or been discharged"
   ]
  },
  {
   "cell_type": "code",
   "execution_count": 24,
   "id": "ae528c80-e15e-4f49-a39c-3126ae652e65",
   "metadata": {},
   "outputs": [
    {
     "name": "stderr",
     "output_type": "stream",
     "text": [
      "/opt/conda/lib/python3.12/site-packages/numpy/core/_methods.py:206: RuntimeWarning: Degrees of freedom <= 0 for slice\n",
      "  ret = _var(a, axis=axis, dtype=dtype, out=out, ddof=ddof,\n",
      "/opt/conda/lib/python3.12/site-packages/numpy/core/_methods.py:198: RuntimeWarning: invalid value encountered in scalar divide\n",
      "  ret = ret.dtype.type(ret / rcount)\n"
     ]
    },
    {
     "data": {
      "image/png": "[encoded data removed]",
      "text/plain": [
       "<Figure size 2500x300 with 1 Axes>"
      ]
     },
     "metadata": {},
     "output_type": "display_data"
    },
    {
     "name": "stdout",
     "output_type": "stream",
     "text": [
      "key                   []\n",
      "Node Depth             0\n",
      "Cluster Mean    0.067851\n",
      "99% CI Low      0.064975\n",
      "99% CI High      0.07081\n",
      "Count              49653\n",
      "Z                    0.0\n",
      "P                    1.0\n",
      "Name: 0, dtype: object\n"
     ]
    },
    {
     "data": {
      "text/html": [
       "<div>\n",
       "<style scoped>\n",
       "    .dataframe tbody tr th:only-of-type {\n",
       "        vertical-align: middle;\n",
       "    }\n",
       "\n",
       "    .dataframe tbody tr th {\n",
       "        vertical-align: top;\n",
       "    }\n",
       "\n",
       "    .dataframe thead th {\n",
       "        text-align: right;\n",
       "    }\n",
       "</style>\n",
       "<table border=\"1\" class=\"dataframe\">\n",
       "  <thead>\n",
       "    <tr style=\"text-align: right;\">\n",
       "      <th></th>\n",
       "      <th>key</th>\n",
       "      <th>Node Depth</th>\n",
       "      <th>Cluster Mean</th>\n",
       "      <th>99% CI Low</th>\n",
       "      <th>99% CI High</th>\n",
       "      <th>Count</th>\n",
       "      <th>Z</th>\n",
       "      <th>P</th>\n",
       "      <th>FDR Adjusted P</th>\n",
       "      <th>Measurement</th>\n",
       "      <th>Whole Population Mean</th>\n",
       "    </tr>\n",
       "  </thead>\n",
       "  <tbody>\n",
       "    <tr>\n",
       "      <th>3370</th>\n",
       "      <td>[True, True, False, True, False, False, True, ...</td>\n",
       "      <td>11</td>\n",
       "      <td>0.937500</td>\n",
       "      <td>0.741189</td>\n",
       "      <td>0.996719</td>\n",
       "      <td>32</td>\n",
       "      <td>19.480676</td>\n",
       "      <td>1.601494e-84</td>\n",
       "      <td>6.346855e-82</td>\n",
       "      <td>Patient Will Die</td>\n",
       "      <td>0.067851</td>\n",
       "    </tr>\n",
       "    <tr>\n",
       "      <th>5924</th>\n",
       "      <td>[True, True, False, True, False, False, True, ...</td>\n",
       "      <td>12</td>\n",
       "      <td>0.956522</td>\n",
       "      <td>0.718556</td>\n",
       "      <td>0.999782</td>\n",
       "      <td>23</td>\n",
       "      <td>16.895338</td>\n",
       "      <td>4.869166e-64</td>\n",
       "      <td>1.273596e-61</td>\n",
       "      <td>Patient Will Die</td>\n",
       "      <td>0.067851</td>\n",
       "    </tr>\n",
       "    <tr>\n",
       "      <th>2142</th>\n",
       "      <td>[True, True, False, True, False, False, True, ...</td>\n",
       "      <td>11</td>\n",
       "      <td>0.880000</td>\n",
       "      <td>0.715996</td>\n",
       "      <td>0.968137</td>\n",
       "      <td>50</td>\n",
       "      <td>22.697242</td>\n",
       "      <td>4.769938e-114</td>\n",
       "      <td>2.495283e-111</td>\n",
       "      <td>Patient Will Die</td>\n",
       "      <td>0.067851</td>\n",
       "    </tr>\n",
       "    <tr>\n",
       "      <th>4120</th>\n",
       "      <td>[True, True, False, True, False, False, True, ...</td>\n",
       "      <td>12</td>\n",
       "      <td>0.885714</td>\n",
       "      <td>0.681997</td>\n",
       "      <td>0.980122</td>\n",
       "      <td>35</td>\n",
       "      <td>19.157535</td>\n",
       "      <td>8.374610e-82</td>\n",
       "      <td>3.221312e-79</td>\n",
       "      <td>Patient Will Die</td>\n",
       "      <td>0.067851</td>\n",
       "    </tr>\n",
       "    <tr>\n",
       "      <th>4093</th>\n",
       "      <td>[True, True, False, True, False, False, False,...</td>\n",
       "      <td>12</td>\n",
       "      <td>0.882353</td>\n",
       "      <td>0.673841</td>\n",
       "      <td>0.979516</td>\n",
       "      <td>34</td>\n",
       "      <td>18.806847</td>\n",
       "      <td>6.636990e-79</td>\n",
       "      <td>2.411103e-76</td>\n",
       "      <td>Patient Will Die</td>\n",
       "      <td>0.067851</td>\n",
       "    </tr>\n",
       "    <tr>\n",
       "      <th>2030</th>\n",
       "      <td>[True, True, False, True, False, False, False,...</td>\n",
       "      <td>11</td>\n",
       "      <td>0.807229</td>\n",
       "      <td>0.673461</td>\n",
       "      <td>0.904388</td>\n",
       "      <td>83</td>\n",
       "      <td>26.539742</td>\n",
       "      <td>3.373328e-155</td>\n",
       "      <td>3.676414e-152</td>\n",
       "      <td>Patient Will Die</td>\n",
       "      <td>0.067851</td>\n",
       "    </tr>\n",
       "    <tr>\n",
       "      <th>10281</th>\n",
       "      <td>[True, True, False, True, False, False, True, ...</td>\n",
       "      <td>13</td>\n",
       "      <td>1.000000</td>\n",
       "      <td>0.665270</td>\n",
       "      <td>1.000000</td>\n",
       "      <td>13</td>\n",
       "      <td>13.340041</td>\n",
       "      <td>1.353852e-40</td>\n",
       "      <td>1.883607e-38</td>\n",
       "      <td>Patient Will Die</td>\n",
       "      <td>0.067851</td>\n",
       "    </tr>\n",
       "    <tr>\n",
       "      <th>2116</th>\n",
       "      <td>[True, True, False, True, False, False, False,...</td>\n",
       "      <td>11</td>\n",
       "      <td>0.811594</td>\n",
       "      <td>0.663478</td>\n",
       "      <td>0.915035</td>\n",
       "      <td>69</td>\n",
       "      <td>24.377432</td>\n",
       "      <td>2.968127e-131</td>\n",
       "      <td>1.764440e-128</td>\n",
       "      <td>Patient Will Die</td>\n",
       "      <td>0.067851</td>\n",
       "    </tr>\n",
       "    <tr>\n",
       "      <th>1021</th>\n",
       "      <td>[True, True, False, True, False, False, False,...</td>\n",
       "      <td>10</td>\n",
       "      <td>0.770642</td>\n",
       "      <td>0.651715</td>\n",
       "      <td>0.865108</td>\n",
       "      <td>109</td>\n",
       "      <td>28.842328</td>\n",
       "      <td>6.323718e-183</td>\n",
       "      <td>1.033784e-179</td>\n",
       "      <td>Patient Will Die</td>\n",
       "      <td>0.067851</td>\n",
       "    </tr>\n",
       "    <tr>\n",
       "      <th>4003</th>\n",
       "      <td>[True, True, False, True, False, False, False,...</td>\n",
       "      <td>12</td>\n",
       "      <td>0.829787</td>\n",
       "      <td>0.647721</td>\n",
       "      <td>0.942507</td>\n",
       "      <td>47</td>\n",
       "      <td>20.659309</td>\n",
       "      <td>8.050765e-95</td>\n",
       "      <td>3.290291e-92</td>\n",
       "      <td>Patient Will Die</td>\n",
       "      <td>0.067851</td>\n",
       "    </tr>\n",
       "  </tbody>\n",
       "</table>\n",
       "</div>"
      ],
      "text/plain": [
       "                                                     key  Node Depth  \\\n",
       "3370   [True, True, False, True, False, False, True, ...          11   \n",
       "5924   [True, True, False, True, False, False, True, ...          12   \n",
       "2142   [True, True, False, True, False, False, True, ...          11   \n",
       "4120   [True, True, False, True, False, False, True, ...          12   \n",
       "4093   [True, True, False, True, False, False, False,...          12   \n",
       "2030   [True, True, False, True, False, False, False,...          11   \n",
       "10281  [True, True, False, True, False, False, True, ...          13   \n",
       "2116   [True, True, False, True, False, False, False,...          11   \n",
       "1021   [True, True, False, True, False, False, False,...          10   \n",
       "4003   [True, True, False, True, False, False, False,...          12   \n",
       "\n",
       "       Cluster Mean  99% CI Low  99% CI High  Count          Z              P  \\\n",
       "3370       0.937500    0.741189     0.996719     32  19.480676   1.601494e-84   \n",
       "5924       0.956522    0.718556     0.999782     23  16.895338   4.869166e-64   \n",
       "2142       0.880000    0.715996     0.968137     50  22.697242  4.769938e-114   \n",
       "4120       0.885714    0.681997     0.980122     35  19.157535   8.374610e-82   \n",
       "4093       0.882353    0.673841     0.979516     34  18.806847   6.636990e-79   \n",
       "2030       0.807229    0.673461     0.904388     83  26.539742  3.373328e-155   \n",
       "10281      1.000000    0.665270     1.000000     13  13.340041   1.353852e-40   \n",
       "2116       0.811594    0.663478     0.915035     69  24.377432  2.968127e-131   \n",
       "1021       0.770642    0.651715     0.865108    109  28.842328  6.323718e-183   \n",
       "4003       0.829787    0.647721     0.942507     47  20.659309   8.050765e-95   \n",
       "\n",
       "       FDR Adjusted P       Measurement  Whole Population Mean  \n",
       "3370     6.346855e-82  Patient Will Die               0.067851  \n",
       "5924     1.273596e-61  Patient Will Die               0.067851  \n",
       "2142    2.495283e-111  Patient Will Die               0.067851  \n",
       "4120     3.221312e-79  Patient Will Die               0.067851  \n",
       "4093     2.411103e-76  Patient Will Die               0.067851  \n",
       "2030    3.676414e-152  Patient Will Die               0.067851  \n",
       "10281    1.883607e-38  Patient Will Die               0.067851  \n",
       "2116    1.764440e-128  Patient Will Die               0.067851  \n",
       "1021    1.033784e-179  Patient Will Die               0.067851  \n",
       "4003     3.290291e-92  Patient Will Die               0.067851  "
      ]
     },
     "execution_count": 24,
     "metadata": {},
     "output_type": "execute_result"
    }
   ],
   "source": [
    "encodings[\"label\"] = y\n",
    "clusters = make_binary_plot(encodings, plot_title=\"Patient Will Die\")\n",
    "clusters.sort_values(\"99% CI Low\", ascending=False)[:10]"
   ]
  }
 ],
 "metadata": {
  "kernelspec": {
   "display_name": "Python 3 (ipykernel)",
   "language": "python",
   "name": "python3"
  },
  "language_info": {
   "codemirror_mode": {
    "name": "ipython",
    "version": 3
   },
   "file_extension": ".py",
   "mimetype": "text/x-python",
   "name": "python",
   "nbconvert_exporter": "python",
   "pygments_lexer": "ipython3",
   "version": "3.12.8"
  }
 },
 "nbformat": 4,
 "nbformat_minor": 5
}
